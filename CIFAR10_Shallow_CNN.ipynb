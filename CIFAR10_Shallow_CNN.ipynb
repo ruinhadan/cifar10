{
  "nbformat": 4,
  "nbformat_minor": 0,
  "metadata": {
    "colab": {
      "name": "CIFAR10 -  Shallow CNN.ipynb",
      "provenance": [],
      "collapsed_sections": [],
      "include_colab_link": true
    },
    "kernelspec": {
      "name": "python3",
      "display_name": "Python 3"
    },
    "accelerator": "GPU"
  },
  "cells": [
    {
      "cell_type": "markdown",
      "metadata": {
        "id": "view-in-github",
        "colab_type": "text"
      },
      "source": [
        "<a href=\"https://colab.research.google.com/github/ruinhadan/cifar10/blob/master/CIFAR10_Shallow_CNN.ipynb\" target=\"_parent\"><img src=\"https://colab.research.google.com/assets/colab-badge.svg\" alt=\"Open In Colab\"/></a>"
      ]
    },
    {
      "cell_type": "markdown",
      "metadata": {
        "id": "wvm0fKOqBYPV",
        "colab_type": "text"
      },
      "source": [
        "# Loading and Processing Data"
      ]
    },
    {
      "cell_type": "code",
      "metadata": {
        "id": "70gXSfiHz7hs",
        "colab_type": "code",
        "colab": {}
      },
      "source": [
        "import torch\n",
        "import matplotlib.pyplot as plt\n",
        "import numpy as np"
      ],
      "execution_count": 0,
      "outputs": []
    },
    {
      "cell_type": "code",
      "metadata": {
        "id": "AKY2o9V_1n2j",
        "colab_type": "code",
        "colab": {}
      },
      "source": [
        "import torch.nn as nn\n",
        "import torchvision.transforms as transforms\n",
        "import torchvision"
      ],
      "execution_count": 0,
      "outputs": []
    },
    {
      "cell_type": "code",
      "metadata": {
        "id": "uto8C8ZI2CLB",
        "colab_type": "code",
        "outputId": "2d75daaa-6ddd-40bb-c4db-7396c55fb8bd",
        "colab": {
          "base_uri": "https://localhost:8080/",
          "height": 104
        }
      },
      "source": [
        "trainset = torchvision.datasets.CIFAR10(root='./data', train=True, download=True, transform=transforms.ToTensor())\n",
        "#trainloader = torch.utils.data.DataLoader(trainset, batch_size=batch_size, shuffle=True)\n",
        "testset = torchvision.datasets.CIFAR10(root='./data', train=False, download=True, transform=transforms.ToTensor())\n",
        "#testloader = torch.utils.data.DataLoader(testset, batch_size=batch_size, shuffle=False)"
      ],
      "execution_count": 0,
      "outputs": [
        {
          "output_type": "stream",
          "text": [
            "\r0it [00:00, ?it/s]"
          ],
          "name": "stderr"
        },
        {
          "output_type": "stream",
          "text": [
            "Downloading https://www.cs.toronto.edu/~kriz/cifar-10-python.tar.gz to ./data/cifar-10-python.tar.gz\n"
          ],
          "name": "stdout"
        },
        {
          "output_type": "stream",
          "text": [
            "170500096it [00:05, 33590451.98it/s]                               \n"
          ],
          "name": "stderr"
        },
        {
          "output_type": "stream",
          "text": [
            "Extracting ./data/cifar-10-python.tar.gz to ./data\n",
            "Files already downloaded and verified\n"
          ],
          "name": "stdout"
        }
      ]
    },
    {
      "cell_type": "code",
      "metadata": {
        "id": "k3L_ca462bB0",
        "colab_type": "code",
        "colab": {}
      },
      "source": [
        "trainloader = torch.utils.data.DataLoader(trainset, batch_size = 4, shuffle= True)"
      ],
      "execution_count": 0,
      "outputs": []
    },
    {
      "cell_type": "code",
      "metadata": {
        "id": "xc2V-ane2noM",
        "colab_type": "code",
        "outputId": "b3f1a0f5-ddcd-43c3-fff2-26323f576b45",
        "colab": {
          "base_uri": "https://localhost:8080/",
          "height": 50
        }
      },
      "source": [
        "trainiter = iter(trainloader)\n",
        "image, label = trainiter.next()\n",
        "print(image[0].shape)\n",
        "print(label[0])"
      ],
      "execution_count": 0,
      "outputs": [
        {
          "output_type": "stream",
          "text": [
            "torch.Size([3, 32, 32])\n",
            "tensor(3)\n"
          ],
          "name": "stdout"
        }
      ]
    },
    {
      "cell_type": "code",
      "metadata": {
        "id": "iKifQXXt2vtm",
        "colab_type": "code",
        "colab": {}
      },
      "source": [
        "def imshow(img):\n",
        "  plt.figure(figsize = (1,1))\n",
        "  plt.imshow(np.transpose(img.numpy(), (1,2,0)))\n",
        "  plt.show()"
      ],
      "execution_count": 0,
      "outputs": []
    },
    {
      "cell_type": "code",
      "metadata": {
        "id": "s9ZFM2k73Pku",
        "colab_type": "code",
        "outputId": "34d6dfca-830c-4528-da95-c3443ed6fdb0",
        "colab": {
          "base_uri": "https://localhost:8080/",
          "height": 105
        }
      },
      "source": [
        "imshow(image[0])"
      ],
      "execution_count": 0,
      "outputs": [
        {
          "output_type": "display_data",
          "data": {
            "image/png": "[encoded data removed]",
            "text/plain": [
              "<Figure size 72x72 with 1 Axes>"
            ]
          },
          "metadata": {
            "tags": []
          }
        }
      ]
    },
    {
      "cell_type": "code",
      "metadata": {
        "id": "8Y2T_FCl3Sq4",
        "colab_type": "code",
        "outputId": "68a4bc28-fa9d-4e70-d9fb-5584dd3b24aa",
        "colab": {
          "base_uri": "https://localhost:8080/",
          "height": 83
        }
      },
      "source": [
        "imshow(torchvision.utils.make_grid(image))\n",
        "print(''.join(classes[label[j]] for j in range(4)))"
      ],
      "execution_count": 0,
      "outputs": [
        {
          "output_type": "display_data",
          "data": {
            "image/png": "[encoded data removed]",
            "text/plain": [
              "<Figure size 72x72 with 1 Axes>"
            ]
          },
          "metadata": {
            "tags": []
          }
        },
        {
          "output_type": "stream",
          "text": [
            "catcatcardeer\n"
          ],
          "name": "stdout"
        }
      ]
    },
    {
      "cell_type": "code",
      "metadata": {
        "id": "rbSO2Fl437MO",
        "colab_type": "code",
        "colab": {}
      },
      "source": [
        "classes = ('plane', 'car', 'bird', 'cat', 'deer', 'dog', 'frog', 'horse', 'ship', 'truck')"
      ],
      "execution_count": 0,
      "outputs": []
    },
    {
      "cell_type": "code",
      "metadata": {
        "id": "hg9N_WhW38Kw",
        "colab_type": "code",
        "colab": {}
      },
      "source": [
        "class CNN1(nn.Module):\n",
        "  def __init__(self):\n",
        "    super(CNN1, self).__init__()\n",
        "    self.net = nn.Sequential(\n",
        "      nn.Conv2d(3, 6, 3)  #[N, 3, 32, 32] -> [N, 6, 30, 30]\n",
        "    )\n",
        "\n",
        "  def forward(self, X):\n",
        "    return self.net(X)"
      ],
      "execution_count": 0,
      "outputs": []
    },
    {
      "cell_type": "code",
      "metadata": {
        "id": "AHqz21PV4xR9",
        "colab_type": "code",
        "outputId": "f216eb85-c4b7-49ca-9dea-2b22740781a1",
        "colab": {
          "base_uri": "https://localhost:8080/",
          "height": 34
        }
      },
      "source": [
        "cnn = CNN1()\n",
        "out = cnn(image)\n",
        "print(out.shape)"
      ],
      "execution_count": 0,
      "outputs": [
        {
          "output_type": "stream",
          "text": [
            "torch.Size([4, 6, 30, 30])\n"
          ],
          "name": "stdout"
        }
      ]
    },
    {
      "cell_type": "code",
      "metadata": {
        "id": "KAPOrqWf5Uqk",
        "colab_type": "code",
        "outputId": "ea549c10-bf75-40a4-e120-76cb6df38c83",
        "colab": {
          "base_uri": "https://localhost:8080/",
          "height": 266
        }
      },
      "source": [
        "plt.imshow(out[0,5,:,:].detach().numpy())\n",
        "plt.show()"
      ],
      "execution_count": 0,
      "outputs": [
        {
          "output_type": "display_data",
          "data": {
            "image/png": "[encoded data removed]",
            "text/plain": [
              "<Figure size 432x288 with 1 Axes>"
            ]
          },
          "metadata": {
            "tags": []
          }
        }
      ]
    },
    {
      "cell_type": "code",
      "metadata": {
        "id": "owHZU7xf58fB",
        "colab_type": "code",
        "outputId": "6a4843e8-d808-44c6-dc35-6cbe45821374",
        "colab": {
          "base_uri": "https://localhost:8080/",
          "height": 50
        }
      },
      "source": [
        "for params in cnn.parameters():\n",
        "  print(params.shape)"
      ],
      "execution_count": 0,
      "outputs": [
        {
          "output_type": "stream",
          "text": [
            "torch.Size([6, 3, 3, 3])\n",
            "torch.Size([6])\n"
          ],
          "name": "stdout"
        }
      ]
    },
    {
      "cell_type": "code",
      "metadata": {
        "id": "lorGZsao5_fT",
        "colab_type": "code",
        "colab": {}
      },
      "source": [
        "class CNN2(nn.Module):\n",
        "  def __init__(self):\n",
        "    super(CNN2, self).__init__()\n",
        "    self.net = nn.Sequential(\n",
        "        nn.Conv2d(3, 6, 3),               # [N, 3, 32, 32] -> [N, 6, 30, 30]\n",
        "        nn.AvgPool2d(2, stride = (2,2)),  # [N, 6, 30, 30] -> [N, 6, 15, 15]\n",
        "        nn.Conv2d(6, 16, 3),              # [N, 6, 15, 15] -> [N, 16, 13, 13]\n",
        "        nn.AvgPool2d(2, stride=(2,2))     # [N, 16, 13, 13] -> [N, 16, 6, 6]\n",
        "    )\n",
        "\n",
        "  def forward(self, X):\n",
        "    return self.net(X)"
      ],
      "execution_count": 0,
      "outputs": []
    },
    {
      "cell_type": "code",
      "metadata": {
        "id": "2gX6DiynTRVW",
        "colab_type": "code",
        "outputId": "63a2c454-99fc-4082-bdc1-5e4c093a7514",
        "colab": {
          "base_uri": "https://localhost:8080/",
          "height": 34
        }
      },
      "source": [
        "cnn2 = CNN2()\n",
        "out = cnn2.forward(image)\n",
        "print(out.shape)"
      ],
      "execution_count": 0,
      "outputs": [
        {
          "output_type": "stream",
          "text": [
            "torch.Size([4, 16, 6, 6])\n"
          ],
          "name": "stdout"
        }
      ]
    },
    {
      "cell_type": "markdown",
      "metadata": {
        "id": "5oGxrPokqqWp",
        "colab_type": "text"
      },
      "source": [
        "# LeNet"
      ]
    },
    {
      "cell_type": "code",
      "metadata": {
        "id": "nJwIpqx1qoiu",
        "colab_type": "code",
        "colab": {}
      },
      "source": [
        "import torch.optim as optim"
      ],
      "execution_count": 0,
      "outputs": []
    },
    {
      "cell_type": "code",
      "metadata": {
        "id": "gTqDSJnNqu7m",
        "colab_type": "code",
        "colab": {}
      },
      "source": [
        "class LeNet(nn.Module):\n",
        "  def __init__(self):\n",
        "    super(LeNet, self).__init__()\n",
        "    self.cnn = nn.Sequential(\n",
        "        nn.Conv2d(3, 6, 5),               # [N, 3, 32, 32] -> [N, 6, 28, 28]\n",
        "        nn.ReLU(),\n",
        "        nn.AvgPool2d(2, stride = (2,2)),  # [N, 6, 28, 28] -> [N, 6, 14, 14]\n",
        "        nn.Conv2d(6, 16, 5),              # [N, 6, 14, 14] -> [N, 16, 10, 10]\n",
        "        nn.ReLU(),\n",
        "        nn.AvgPool2d(2, stride = (2,2))   # [N, 16, 10, 10] -> [N, 16, 5, 5]\n",
        "    )\n",
        "\n",
        "    self.fcn = nn.Sequential(\n",
        "        nn.Linear(400, 120),              # [N, 400] -> [N, 120]\n",
        "        nn.ReLU(),        \n",
        "        nn.Linear(120, 84),               # [N, 120] -> [N, 84]\n",
        "        nn.ReLU(),\n",
        "        nn.Linear(84, 10)                 # [N, 84] -> [N, 10]\n",
        "    )\n",
        "\n",
        "  def forward(self, X):\n",
        "    Y_temp =  self.cnn(X)\n",
        "    #print(Y_temp.shape)\n",
        "    Y_temp = Y_temp.view(Y_temp.size(0), -1)\n",
        "    #print(Y_temp.shape)\n",
        "    return self.fcn(Y_temp)"
      ],
      "execution_count": 0,
      "outputs": []
    },
    {
      "cell_type": "code",
      "metadata": {
        "id": "jby_J0hD7NVL",
        "colab_type": "code",
        "colab": {}
      },
      "source": [
        "device = torch.device('cuda:0')"
      ],
      "execution_count": 0,
      "outputs": []
    },
    {
      "cell_type": "code",
      "metadata": {
        "id": "q7HSGFBh7gJK",
        "colab_type": "code",
        "outputId": "9effc009-e98c-4bbf-a999-747472e4d6a3",
        "colab": {
          "base_uri": "https://localhost:8080/",
          "height": 34
        }
      },
      "source": [
        "print(device)"
      ],
      "execution_count": 0,
      "outputs": [
        {
          "output_type": "stream",
          "text": [
            "cuda:0\n"
          ],
          "name": "stdout"
        }
      ]
    },
    {
      "cell_type": "code",
      "metadata": {
        "id": "-rUtPqYrsN_p",
        "colab_type": "code",
        "colab": {}
      },
      "source": [
        "net = LeNet().to(device)"
      ],
      "execution_count": 0,
      "outputs": []
    },
    {
      "cell_type": "code",
      "metadata": {
        "id": "H63BL3antsaZ",
        "colab_type": "code",
        "colab": {}
      },
      "source": [
        "trainloader = torch.utils.data.DataLoader(trainset, batch_size=128, shuffle=True)\n",
        "testloader = torch.utils.data.DataLoader(testset, batch_size = 128, shuffle = False)"
      ],
      "execution_count": 0,
      "outputs": []
    },
    {
      "cell_type": "code",
      "metadata": {
        "id": "tn-nUonAu8hv",
        "colab_type": "code",
        "colab": {}
      },
      "source": [
        "def eval(dataloader):\n",
        "  total = 0\n",
        "  corr = 0\n",
        "  for data in dataloader:\n",
        "    inputs, labels = data\n",
        "    inputs, labels = inputs.to(device), labels.to(device)\n",
        "    outputs = net(inputs)\n",
        "    _, pred = torch.max(outputs.data, 1)\n",
        "    total += labels.size(0)\n",
        "    corr += (pred == labels).sum().item()\n",
        "  return 100* (corr/total)\n",
        "    "
      ],
      "execution_count": 0,
      "outputs": []
    },
    {
      "cell_type": "code",
      "metadata": {
        "id": "qw4m_ySCxt7r",
        "colab_type": "code",
        "colab": {}
      },
      "source": [
        "lossfn = nn.CrossEntropyLoss()\n",
        "opt = optim.Adam(net.parameters())"
      ],
      "execution_count": 0,
      "outputs": []
    },
    {
      "cell_type": "code",
      "metadata": {
        "id": "8PdMC79DtYVc",
        "colab_type": "code",
        "outputId": "1cb19a78-c196-46e1-df7c-ee92b649a1a4",
        "colab": {
          "base_uri": "https://localhost:8080/",
          "height": 567
        }
      },
      "source": [
        "%%time\n",
        "\n",
        "loss_arr = []\n",
        "epochs = 16\n",
        "\n",
        "for epoch in range(epochs):\n",
        "  for i, data in enumerate(trainloader, 0):\n",
        "    images, labels = data\n",
        "    images, labels = images.to(device), labels.to(device)\n",
        "\n",
        "    opt.zero_grad()\n",
        "\n",
        "    out = net(images)\n",
        "    loss = lossfn(out, labels)\n",
        "    loss.backward()\n",
        "    opt.step()\n",
        "\n",
        "  loss_arr.append(loss.item())\n",
        "  print('Epoch %d - Train acc - %0.2f, Test acc - %0.2f || tada - %d' %(epoch, eval(trainloader), eval(testloader), i))\n",
        "\n",
        "plt.plot(loss_arr)\n",
        "plt.show()"
      ],
      "execution_count": 0,
      "outputs": [
        {
          "output_type": "stream",
          "text": [
            "Epoch 0 - Train acc - 39.50, Test acc - 39.39 || tada - 390\n",
            "Epoch 1 - Train acc - 46.07, Test acc - 46.40 || tada - 390\n",
            "Epoch 2 - Train acc - 45.93, Test acc - 45.80 || tada - 390\n",
            "Epoch 3 - Train acc - 50.39, Test acc - 49.25 || tada - 390\n",
            "Epoch 4 - Train acc - 53.31, Test acc - 51.72 || tada - 390\n",
            "Epoch 5 - Train acc - 54.10, Test acc - 52.39 || tada - 390\n",
            "Epoch 6 - Train acc - 55.33, Test acc - 53.16 || tada - 390\n",
            "Epoch 7 - Train acc - 56.91, Test acc - 54.15 || tada - 390\n",
            "Epoch 8 - Train acc - 58.12, Test acc - 55.43 || tada - 390\n",
            "Epoch 9 - Train acc - 59.65, Test acc - 56.29 || tada - 390\n",
            "Epoch 10 - Train acc - 59.25, Test acc - 55.85 || tada - 390\n",
            "Epoch 11 - Train acc - 60.40, Test acc - 56.39 || tada - 390\n",
            "Epoch 12 - Train acc - 61.99, Test acc - 57.56 || tada - 390\n",
            "Epoch 13 - Train acc - 61.68, Test acc - 57.35 || tada - 390\n",
            "Epoch 14 - Train acc - 62.56, Test acc - 57.49 || tada - 390\n",
            "Epoch 15 - Train acc - 63.96, Test acc - 58.97 || tada - 390\n"
          ],
          "name": "stdout"
        },
        {
          "output_type": "display_data",
          "data": {
            "image/png": "[encoded data removed]",
            "text/plain": [
              "<Figure size 432x288 with 1 Axes>"
            ]
          },
          "metadata": {
            "tags": []
          }
        },
        {
          "output_type": "stream",
          "text": [
            "CPU times: user 2min 44s, sys: 1.09 s, total: 2min 46s\n",
            "Wall time: 2min 46s\n"
          ],
          "name": "stdout"
        }
      ]
    }
  ]
}